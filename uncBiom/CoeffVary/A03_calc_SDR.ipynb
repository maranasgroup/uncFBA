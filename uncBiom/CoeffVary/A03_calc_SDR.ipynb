{
 "cells": [
  {
   "cell_type": "code",
   "execution_count": 1,
   "metadata": {},
   "outputs": [],
   "source": [
    "import cobra, os\n",
    "import pandas as pd\n",
    "import numpy as np\n",
    "\n",
    "from collections import OrderedDict\n",
    "from copy import deepcopy\n",
    "\n",
    "from sklearn.linear_model import LinearRegression"
   ]
  },
  {
   "cell_type": "code",
   "execution_count": 3,
   "metadata": {},
   "outputs": [],
   "source": [
    "path = './output/'\n",
    "\n",
    "stds_coeff = ['0.05', '0.1', '0.2', '0.3']\n",
    "\n",
    "# Load dataframe\n",
    "dfs = OrderedDict.fromkeys(stds_coeff)\n",
    "for std in stds_coeff:\n",
    "    fname = 'ftype-dfFlux_CoeffStd-' + std + '_added.csv'\n",
    "    fpath = os.path.join(path, fname)\n",
    "    df = pd.read_csv(fpath, sep='\\t', index_col=0)\n",
    "    df = df.fillna(0)\n",
    "    dfs[std] = df\n",
    "\n",
    "# Collect list of reactions\n",
    "rxns = sum([df.columns.to_list() for df in dfs.values()], [])\n",
    "rxns = sorted(list(set(rxns)))\n",
    "temp = deepcopy(dfs)\n",
    "dfs = OrderedDict.fromkeys(stds_coeff)\n",
    "for std in stds_coeff:\n",
    "    dfs[std] = pd.DataFrame(index=range(0,10001), columns=rxns)\n",
    "    dfs[std].update(temp[std])\n",
    "    dfs[std] = dfs[std].fillna(0)\n",
    "\n",
    "# Calculate mean and std\n",
    "cols = ['Stdev_slope', 'R2']\n",
    "#cols = ['Mean', 'Stdev']\n",
    "cols += ['Stdev_'+std for std in stds_coeff]\n",
    "cols += ['Mean_'+std for std in stds_coeff]\n",
    "cols += ['Stdevnorm_'+std for std in stds_coeff]\n",
    "\n",
    "dfFluxStat = pd.DataFrame(index=rxns, columns=cols)\n",
    "for std in stds_coeff:\n",
    "    means = dfs[std].mean(axis=0)\n",
    "    stds_calc = dfs[std].std(axis=0, ddof=0)\n",
    "    dfFluxStat.loc[:, 'Mean_'+std] = means\n",
    "    dfFluxStat.loc[:, 'Stdev_'+std] = stds_calc\n",
    "    dfFluxStat.loc[:, 'Stdevnorm_'+std] = stds_calc.divide(means.abs())\n",
    "\n",
    "# Linear regression\n",
    "for rxn in dfFluxStat.index:\n",
    "    x = [0] + [float(std) for std in stds_coeff]\n",
    "    y = [0] + [dfFluxStat.loc[rxn, 'Stdevnorm_'+std] for std in stds_coeff]\n",
    "\n",
    "    if all([pd.isnull(v) == False for v in y]):\n",
    "        #y = [v if pd.isnull(v) == False else 0 for v in y]\n",
    "        y = [v if abs(v) > 1e-8 else 0 for v in y]\n",
    "\n",
    "        LRmodel = LinearRegression(fit_intercept=True)\n",
    "        x = np.array(x).reshape(-1,1)\n",
    "        y = np.array(y).reshape(-1,1)\n",
    "\n",
    "        LRmodel.fit(x,y)\n",
    "        slope = LRmodel.coef_[0][0]\n",
    "        r2 = LRmodel.score(x,y)\n",
    "\n",
    "        dfFluxStat.loc[rxn, 'Stdev_slope'] = slope\n",
    "        dfFluxStat.loc[rxn, 'R2'] = r2\n",
    "\n",
    "# Save\n",
    "dfFluxStat.to_csv('./output/dfFluxStat.csv', sep='\\t', index=True)"
   ]
  },
  {
   "cell_type": "code",
   "execution_count": null,
   "metadata": {},
   "outputs": [],
   "source": []
  }
 ],
 "metadata": {
  "kernelspec": {
   "display_name": "Python 3",
   "language": "python",
   "name": "python3"
  },
  "language_info": {
   "codemirror_mode": {
    "name": "ipython",
    "version": 3
   },
   "file_extension": ".py",
   "mimetype": "text/x-python",
   "name": "python",
   "nbconvert_exporter": "python",
   "pygments_lexer": "ipython3",
   "version": "3.7.9"
  }
 },
 "nbformat": 4,
 "nbformat_minor": 2
}
