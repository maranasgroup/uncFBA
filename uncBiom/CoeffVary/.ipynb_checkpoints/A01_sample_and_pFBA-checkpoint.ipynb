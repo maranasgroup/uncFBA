{
 "cells": [
  {
   "cell_type": "code",
   "execution_count": 1,
   "metadata": {},
   "outputs": [],
   "source": [
    "import numpy as np\n",
    "import pandas as pd\n",
    "import sys\n",
    "\n",
    "from numpy.random import normal\n",
    "\n",
    "import cobra\n",
    "\n",
    "sys.path.append('../')\n",
    "from uncBiomFuncs import file_name, make_normal_distributed_coefficients, make_pfba_csv, make_fluxes_dataframe "
   ]
  },
  {
   "cell_type": "code",
   "execution_count": 17,
   "metadata": {},
   "outputs": [],
   "source": [
    "coeff_std = 0.1 # Set this to 0.05, 0.1, 0.2, and 0.3 and rerun\n",
    "size = 50"
   ]
  },
  {
   "cell_type": "code",
   "execution_count": 18,
   "metadata": {},
   "outputs": [],
   "source": [
    "dir_model = '../input/iML1515_glcreduced.json'\n",
    "model = cobra.io.load_json_model(dir_model)\n",
    "model.solver = 'cplex'\n",
    "\n",
    "revBetaOx = ['ACACT1r', 'ACACT2r', 'ACACT3r', 'ACACT4r', 'ACACT5r',\n",
    "             'ACACT6r', 'ACACT7r', 'ACACT8r']\n",
    "for rxnid in revBetaOx:\n",
    "    rxn = model.reactions.get_by_id(rxnid)\n",
    "    rxn.upper_bound = 0\n",
    "model.reactions.POR5.lower_bound = 0\n",
    "\n",
    "config = cobra.Configuration()\n",
    "config.tolerance = 1e-9\n",
    "zero_tol = 1e-9\n",
    "\n",
    "biomId = 'BIOMASS_Ec_iML1515_core_75p37M'\n",
    "gam_val = 75.37723\n",
    "dir_case = './output/'\n",
    "import os\n",
    "if not os.path.exists(dir_case):\n",
    "    os.makedirs(dir_case)"
   ]
  },
  {
   "cell_type": "code",
   "execution_count": 19,
   "metadata": {},
   "outputs": [],
   "source": [
    "# Step 1 - vary coefficient\n",
    "fname = file_name(coeff_std=coeff_std, gam_std=None, ftype='dfCoeff')\n",
    "dfCoeff = make_normal_distributed_coefficients(model, coeff_std=coeff_std,\n",
    "                gam_val=gam_val, biomId=biomId, size=size)\n",
    "dfCoeff.to_csv(dir_case + fname + '.csv', sep='\\t')"
   ]
  },
  {
   "cell_type": "code",
   "execution_count": 20,
   "metadata": {},
   "outputs": [
    {
     "name": "stdout",
     "output_type": "stream",
     "text": [
      "No infeasible cases\n"
     ]
    }
   ],
   "source": [
    "# Step 2 - run pFBA\n",
    "fname = file_name(coeff_std=coeff_std, gam_std=None, ftype='dfCoeff')\n",
    "dfCoeff = pd.read_csv(dir_case + fname + '.csv', sep='\\t', index_col=0, header=0)\n",
    "\n",
    "fname = file_name(coeff_std=coeff_std, gam_std=None)\n",
    "dir_pfba = dir_case + 'pFBA/' + fname + '/'\n",
    "\n",
    "dir_model = '../input/iML1515_glcreduced.json'\n",
    "model = cobra.io.load_json_model(dir_model)\n",
    "model.solver = 'cplex'\n",
    "\n",
    "revBetaOx = ['ACACT1r', 'ACACT2r', 'ACACT3r', 'ACACT4r', 'ACACT5r',\n",
    "             'ACACT6r', 'ACACT7r', 'ACACT8r']\n",
    "for rxnid in revBetaOx:\n",
    "    rxn = model.reactions.get_by_id(rxnid)\n",
    "    rxn.upper_bound = 0\n",
    "model.reactions.POR5.lower_bound = 0\n",
    "\n",
    "config = cobra.Configuration()\n",
    "config.tolerance = 1e-9\n",
    "zero_tol = 1e-9\n",
    "\n",
    "make_pfba_csv(model, dfCoeff, dir_pfba, biomId)"
   ]
  },
  {
   "cell_type": "code",
   "execution_count": 21,
   "metadata": {},
   "outputs": [],
   "source": [
    "# Step 3 - compile flux dataframe from pFBA csv\n",
    "fname = file_name(coeff_std=coeff_std, gam_std=None, ftype='dfCoeff')\n",
    "dfCoeff = pd.read_csv(dir_case + fname + '.csv', sep='\\t', index_col=0, header=0)\n",
    "\n",
    "fname = file_name(coeff_std=coeff_std, gam_std=None)\n",
    "dir_pfba = dir_case + 'pFBA/' + fname + '/'\n",
    "\n",
    "fname = file_name(coeff_std=coeff_std, gam_std=None, ftype='dfFlux')\n",
    "index = dfCoeff.index.to_list()\n",
    "dfFlux = make_fluxes_dataframe(index, dir_pfba)\n",
    "dfFlux = dfFlux.loc[:, (dfFlux.abs() > zero_tol).any(axis=0)]\n",
    "dfFlux.to_csv(dir_case + fname + '.csv', sep='\\t')\n",
    "\n",
    "# Remove pFBA files\n",
    "import shutil\n",
    "fname = file_name(coeff_std=coeff_std, gam_std=None)\n",
    "shutil.rmtree(dir_pfba)"
   ]
  },
  {
   "cell_type": "code",
   "execution_count": null,
   "metadata": {},
   "outputs": [],
   "source": []
  }
 ],
 "metadata": {
  "kernelspec": {
   "display_name": "Python 3",
   "language": "python",
   "name": "python3"
  },
  "language_info": {
   "codemirror_mode": {
    "name": "ipython",
    "version": 3
   },
   "file_extension": ".py",
   "mimetype": "text/x-python",
   "name": "python",
   "nbconvert_exporter": "python",
   "pygments_lexer": "ipython3",
   "version": "3.7.9"
  }
 },
 "nbformat": 4,
 "nbformat_minor": 2
}
