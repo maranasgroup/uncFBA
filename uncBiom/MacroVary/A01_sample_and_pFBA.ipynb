{
 "cells": [
  {
   "cell_type": "code",
   "execution_count": 1,
   "metadata": {},
   "outputs": [],
   "source": [
    "import numpy as np\n",
    "import pandas as pd\n",
    "import sys\n",
    "\n",
    "from numpy.random import normal\n",
    "\n",
    "import cobra\n",
    "\n",
    "sys.path.append('../')\n",
    "from uncBiomFuncs import file_name, make_pfba_csv, make_fluxes_dataframe, get_coeff_without_gam"
   ]
  },
  {
   "cell_type": "code",
   "execution_count": 2,
   "metadata": {},
   "outputs": [],
   "source": [
    "coeff_std = 0.1 # Set this to 0.05, 0.2, and 0.3 and rerun\n",
    "size = 50"
   ]
  },
  {
   "cell_type": "code",
   "execution_count": 3,
   "metadata": {},
   "outputs": [],
   "source": [
    "dir_model = '../input/iML1515_glcreduced.json'\n",
    "model = cobra.io.load_json_model(dir_model)\n",
    "model.solver = 'cplex'\n",
    "\n",
    "revBetaOx = ['ACACT1r', 'ACACT2r', 'ACACT3r', 'ACACT4r', 'ACACT5r',\n",
    "             'ACACT6r', 'ACACT7r', 'ACACT8r']\n",
    "for rxnid in revBetaOx:\n",
    "    rxn = model.reactions.get_by_id(rxnid)\n",
    "    rxn.upper_bound = 0\n",
    "    \n",
    "model.reactions.POR5.lower_bound = 0\n",
    "\n",
    "config = cobra.Configuration()\n",
    "config.tolerance = 1e-9\n",
    "zero_tol = 1e-9\n",
    "\n",
    "biomId = 'BIOMASS_Ec_iML1515_core_75p37M'\n",
    "gam_val = 75.37723\n",
    "dir_case = './output/'\n",
    "import os\n",
    "if not os.path.exists(dir_case):\n",
    "    os.makedirs(dir_case)\n",
    "    \n",
    "bMets = get_coeff_without_gam(model, biomId, gam_val)\n",
    "\n",
    "aas = ['ala__L','arg__L','asn__L','asp__L','cys__L','gln__L','glu__L','gly','his__L','ile__L',\n",
    "       'leu__L','lys__L','met__L','phe__L','pro__L','ser__L','thr__L','trp__L','tyr__L','val__L']\n",
    "aas = {k + '_c':1 for k in aas}\n",
    "\n",
    "nus = ['datp','dctp','dgtp','dttp','ctp','gtp','utp','atp']\n",
    "nus = {k + '_c':1 for k in nus}"
   ]
  },
  {
   "cell_type": "code",
   "execution_count": 4,
   "metadata": {},
   "outputs": [],
   "source": [
    "df_biom = pd.read_excel('../input/Biom_frac_annotated.xlsx', sheet_name='biom')\n",
    "macro_frac = dict()\n",
    "for macro in set(df_biom.type):\n",
    "    macro_frac[macro] = round(df_biom[df_biom.type == macro].biom_frac.sum(), 9)\n",
    "\n",
    "cols = ['Sum_frac', 'Amino acids', 'Cell wall components', 'DNA', 'RNA',\n",
    "        'Lipids', 'Cofactors and prosthetic groups', 'Inorganic ions']\n",
    "df_macro = pd.DataFrame(columns=cols, index=range(0, size+1))\n",
    "i = 0\n",
    "for k,v in macro_frac.items():\n",
    "    df_macro.loc[i, k] = v\n",
    "\n",
    "seed = -1\n",
    "for col in df_macro.columns[1:]:\n",
    "    c0 = df_macro.loc[0, col]\n",
    "    seed += 1\n",
    "    np.random.seed(seed)\n",
    "    coeff_norm = c0 + coeff_std*c0*normal(size=size)\n",
    "    # Only allow positive value for biom fraction\n",
    "    coeff_norm = [coeff if coeff > zero_tol else zero_tol for coeff in coeff_norm]\n",
    "    df_macro.loc[range(1,size+1), col] = coeff_norm\n",
    "    \n",
    "df_macro['Sum_frac'] = df_macro.iloc[:, 1:].sum(axis=1)\n",
    "\n",
    "# Normalize\n",
    "df_macro.iloc[:, 1:] = df_macro.iloc[:, 1:].div(df_macro.Sum_frac, axis=0)"
   ]
  },
  {
   "cell_type": "code",
   "execution_count": 5,
   "metadata": {},
   "outputs": [],
   "source": [
    "met_in_macro = {}\n",
    "for macro in set(df_biom.type):\n",
    "    met_in_macro[macro] = df_biom[df_biom.type == macro].id.to_list()\n",
    "    \n",
    "round_digit = -int(np.log10(zero_tol))\n",
    "bMets = get_coeff_without_gam(model, biomId, gam_val)\n",
    "\n",
    "dfCoeff = pd.DataFrame(index = range(0,size+1), columns=['biomMW'] + list(bMets.keys()))\n",
    "\n",
    "i = 0\n",
    "for col in dfCoeff.columns[1:]:\n",
    "    dfCoeff.loc[i, col] = bMets[col]"
   ]
  },
  {
   "cell_type": "code",
   "execution_count": 6,
   "metadata": {},
   "outputs": [],
   "source": [
    "for i in range(1, size+1):\n",
    "    for macro,mets in met_in_macro.items():\n",
    "        dfCoeff.loc[i,mets] = dfCoeff.loc[0,mets] * df_macro.loc[i, macro] / df_macro.loc[0, macro]\n",
    "        \n",
    "for i in range(1, size+1):\n",
    "    coeff = 0\n",
    "    for k,v in aas.items():\n",
    "        coeff += v*dfCoeff.loc[i, k]\n",
    "    dfCoeff.loc[i, 'h2o_c'] = -coeff\n",
    "\n",
    "    coeff = 0\n",
    "    dfCoeff.loc[i, 'ppi_c'] = 0\n",
    "    for k,v in nus.items():\n",
    "        coeff += v*dfCoeff.loc[i, k]\n",
    "    dfCoeff.loc[i, 'ppi_c'] = -coeff\n",
    "    \n",
    "mets_mw = [model.metabolites.get_by_id(i).formula_weight for i in dfCoeff.columns[1:]]\n",
    "dfCoeff['biomMW'] = -dfCoeff.iloc[:, 1:].multiply(mets_mw, axis=1).sum(axis=1)\n",
    "\n",
    "# Add GAM back\n",
    "for col in ['atp_c', 'adp_c', 'h2o_c', 'pi_c', 'h_c']:\n",
    "    if col not in dfCoeff.columns:\n",
    "        dfCoeff[col] = [0.]*dfCoeff.shape[0] # Create array of zeros\n",
    "for metId in ['atp_c', 'h2o_c']:\n",
    "    dfCoeff.loc[:, metId] -= gam_val\n",
    "for metId in ['adp_c', 'pi_c', 'h_c']:\n",
    "    dfCoeff.loc[:, metId] += gam_val\n",
    "    \n",
    "# Rearrange\n",
    "atpm = ['atp_c', 'adp_c', 'h2o_c', 'pi_c', 'h_c']\n",
    "biomrxn = model.reactions.get_by_id(biomId)\n",
    "mets = atpm + sorted([met.id for met in biomrxn.metabolites.keys() if met.id not in atpm])\n",
    "dfCoeff = dfCoeff.reindex(['biomMW'] + mets, axis=1)\n",
    "\n",
    "# Save\n",
    "fname = file_name(coeff_std=coeff_std, gam_std=None, ftype='dfCoeff')\n",
    "dfCoeff.to_csv(dir_case + fname + '.csv', sep='\\t')"
   ]
  },
  {
   "cell_type": "markdown",
   "metadata": {},
   "source": [
    "#### Step 2 - run pFBA"
   ]
  },
  {
   "cell_type": "code",
   "execution_count": 7,
   "metadata": {},
   "outputs": [
    {
     "name": "stdout",
     "output_type": "stream",
     "text": [
      "No infeasible cases\n"
     ]
    }
   ],
   "source": [
    "fname = file_name(coeff_std=coeff_std, gam_std=None)\n",
    "dir_pfba = dir_case + 'pFBA/' + fname + '/'\n",
    "make_pfba_csv(model, dfCoeff, dir_pfba, biomId)"
   ]
  },
  {
   "cell_type": "markdown",
   "metadata": {},
   "source": [
    "####  Step 3 - compile flux dataframe from pFBA csv"
   ]
  },
  {
   "cell_type": "code",
   "execution_count": 8,
   "metadata": {},
   "outputs": [],
   "source": [
    "fname = file_name(coeff_std=coeff_std, gam_std=None, ftype='dfCoeff')\n",
    "dfCoeff = pd.read_csv(dir_case + fname + '.csv', sep='\\t', index_col=0, header=0)\n",
    "\n",
    "fname = file_name(coeff_std=coeff_std, gam_std=None)\n",
    "dir_pfba = dir_case + 'pFBA/' + fname + '/'\n",
    "\n",
    "fname = file_name(coeff_std=coeff_std, gam_std=None, ftype='dfFlux')\n",
    "index = dfCoeff.index.to_list()\n",
    "dfFlux = make_fluxes_dataframe(index, dir_pfba)\n",
    "dfFlux = dfFlux.loc[:, (dfFlux.abs() > zero_tol).any(axis=0)]\n",
    "dfFlux.to_csv(dir_case + fname + '.csv', sep='\\t')\n",
    "\n",
    "# Remove pFBA files\n",
    "import shutil\n",
    "fname = file_name(coeff_std=coeff_std, gam_std=None)\n",
    "shutil.rmtree(dir_pfba)"
   ]
  },
  {
   "cell_type": "code",
   "execution_count": null,
   "metadata": {},
   "outputs": [],
   "source": []
  }
 ],
 "metadata": {
  "kernelspec": {
   "display_name": "Python 3",
   "language": "python",
   "name": "python3"
  },
  "language_info": {
   "codemirror_mode": {
    "name": "ipython",
    "version": 3
   },
   "file_extension": ".py",
   "mimetype": "text/x-python",
   "name": "python",
   "nbconvert_exporter": "python",
   "pygments_lexer": "ipython3",
   "version": "3.7.9"
  }
 },
 "nbformat": 4,
 "nbformat_minor": 2
}
