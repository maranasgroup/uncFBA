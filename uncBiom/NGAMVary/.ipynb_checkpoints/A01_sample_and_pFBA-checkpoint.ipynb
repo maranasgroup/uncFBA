{
 "cells": [
  {
   "cell_type": "code",
   "execution_count": 1,
   "metadata": {},
   "outputs": [],
   "source": [
    "import numpy as np\n",
    "import pandas as pd\n",
    "import sys\n",
    "\n",
    "from numpy.random import normal\n",
    "\n",
    "import cobra\n",
    "\n",
    "sys.path.append('../')\n",
    "from uncBiomFuncs import file_name, make_pfba_csv, make_fluxes_dataframe "
   ]
  },
  {
   "cell_type": "code",
   "execution_count": 2,
   "metadata": {},
   "outputs": [],
   "source": [
    "coeff_std = 0.1 # Set this to 0.05, 0.1, 0.2, and 0.3 and rerun\n",
    "size = 50"
   ]
  },
  {
   "cell_type": "code",
   "execution_count": 3,
   "metadata": {},
   "outputs": [],
   "source": [
    "dir_model = '../input/iML1515_glcreduced.json'\n",
    "model = cobra.io.load_json_model(dir_model)\n",
    "model.solver = 'cplex'\n",
    "\n",
    "revBetaOx = ['ACACT1r', 'ACACT2r', 'ACACT3r', 'ACACT4r', 'ACACT5r',\n",
    "             'ACACT6r', 'ACACT7r', 'ACACT8r']\n",
    "for rxnid in revBetaOx:\n",
    "    rxn = model.reactions.get_by_id(rxnid)\n",
    "    rxn.upper_bound = 0\n",
    "model.reactions.POR5.lower_bound = 0\n",
    "\n",
    "config = cobra.Configuration()\n",
    "config.tolerance = 1e-9\n",
    "zero_tol = 1e-9\n",
    "\n",
    "biomId = 'BIOMASS_Ec_iML1515_core_75p37M'\n",
    "gam_val = 75.37723\n",
    "dir_case = './output/'\n",
    "import os\n",
    "if not os.path.exists(dir_case):\n",
    "    os.makedirs(dir_case)"
   ]
  },
  {
   "cell_type": "code",
   "execution_count": 4,
   "metadata": {},
   "outputs": [],
   "source": [
    "# Step 1 - vary NGAM\n",
    "from numpy.random import normal\n",
    "from scipy.stats import tmean, tstd\n",
    "seed = 0\n",
    "ngam0 = 6.86\n",
    "ngam = ngam0 + coeff_std*ngam0*normal(size=size)\n",
    "ngam = np.append([ngam0], ngam)\n",
    "ngam = [i if i > zero_tol else zero_tol for i in ngam]"
   ]
  },
  {
   "cell_type": "code",
   "execution_count": 5,
   "metadata": {},
   "outputs": [
    {
     "name": "stdout",
     "output_type": "stream",
     "text": [
      "No infeasible cases\n"
     ]
    }
   ],
   "source": [
    "# Step 2 - run pFBA\n",
    "fname = file_name(coeff_std=coeff_std, gam_std=None)\n",
    "dir_pfba = dir_case + 'pFBA/' + fname + '/'\n",
    "dir_model = '../input/iML1515_glcreduced.json'\n",
    "model = cobra.io.load_json_model(dir_model)\n",
    "model.solver = 'cplex'\n",
    "\n",
    "revBetaOx = ['ACACT1r', 'ACACT2r', 'ACACT3r', 'ACACT4r', 'ACACT5r',\n",
    "             'ACACT6r', 'ACACT7r', 'ACACT8r']\n",
    "for rxnid in revBetaOx:\n",
    "    rxn = model.reactions.get_by_id(rxnid)\n",
    "    rxn.upper_bound = 0\n",
    "model.reactions.POR5.lower_bound = 0\n",
    "\n",
    "config = cobra.Configuration()\n",
    "config.tolerance = 1e-9\n",
    "zero_tol = 1e-9\n",
    "\n",
    "if not os.path.exists(dir_pfba):\n",
    "    os.makedirs(dir_pfba)\n",
    "\n",
    "try:\n",
    "    model.solver = 'cplex'\n",
    "except:\n",
    "    None\n",
    "\n",
    "infes_cases = []\n",
    "for i in range(0, len(ngam)):\n",
    "    model.reactions.ATPM.lower_bound = ngam[i]\n",
    "    try:\n",
    "        pFba = cobra.flux_analysis.pfba(model, fraction_of_optimum=1)\n",
    "    except:\n",
    "        infes_cases.append(i)\n",
    "        continue\n",
    "    df = pd.DataFrame({'Rxn': pFba.fluxes.index.tolist(), 'Flux': pFba.fluxes.values.tolist()})\n",
    "    df = df.loc[:, ['Rxn', 'Flux']]\n",
    "\n",
    "    fname = 'pFBA' + str(i) + '.csv'\n",
    "    df.to_csv(os.path.join(dir_pfba, fname), sep=',', index=None)\n",
    "try:\n",
    "    if len(infes_cases) > 0:\n",
    "        infes_cases_str = [str(case) for case in infes_cases]\n",
    "        print('List of infeasible cases:', ','.join(infes_cases_str))\n",
    "    else:\n",
    "        print('No infeasible cases')\n",
    "except:\n",
    "    print('Error in printing list of infeasible cases, need to inspect manually later')"
   ]
  },
  {
   "cell_type": "code",
   "execution_count": 6,
   "metadata": {},
   "outputs": [],
   "source": [
    "# Step 3 - compile flux dataframe from pFBA csv\n",
    "fname = file_name(coeff_std=coeff_std, gam_std=None)\n",
    "dir_pfba = dir_case + 'pFBA/' + fname + '/'\n",
    "\n",
    "fname = file_name(coeff_std=coeff_std, gam_std=None, ftype='dfFlux')\n",
    "index = range(0, size+1);\n",
    "dfFlux = make_fluxes_dataframe(index, dir_pfba)\n",
    "dfFlux = dfFlux.loc[:, (dfFlux.abs() > zero_tol).any(axis=0)]\n",
    "dfFlux.to_csv(dir_case + fname + '.csv', sep='\\t')\n",
    "\n",
    "# Remove pFBA files\n",
    "import shutil\n",
    "fname = file_name(coeff_std=coeff_std, gam_std=None)\n",
    "shutil.rmtree(dir_pfba)"
   ]
  },
  {
   "cell_type": "code",
   "execution_count": null,
   "metadata": {},
   "outputs": [],
   "source": []
  }
 ],
 "metadata": {
  "kernelspec": {
   "display_name": "Python 3",
   "language": "python",
   "name": "python3"
  },
  "language_info": {
   "codemirror_mode": {
    "name": "ipython",
    "version": 3
   },
   "file_extension": ".py",
   "mimetype": "text/x-python",
   "name": "python",
   "nbconvert_exporter": "python",
   "pygments_lexer": "ipython3",
   "version": "3.7.9"
  }
 },
 "nbformat": 4,
 "nbformat_minor": 2
}
